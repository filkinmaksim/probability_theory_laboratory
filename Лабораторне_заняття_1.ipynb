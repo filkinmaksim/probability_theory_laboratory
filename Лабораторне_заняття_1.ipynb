{
  "nbformat": 4,
  "nbformat_minor": 0,
  "metadata": {
    "kernelspec": {
      "display_name": "Python 3",
      "language": "python",
      "name": "python3"
    },
    "language_info": {
      "codemirror_mode": {
        "name": "ipython",
        "version": 3
      },
      "file_extension": ".py",
      "mimetype": "text/x-python",
      "name": "python",
      "nbconvert_exporter": "python",
      "pygments_lexer": "ipython3",
      "version": "3.6.1"
    },
    "colab": {
      "name": "Лабораторне заняття 1.ipynb",
      "provenance": [],
      "machine_shape": "hm",
      "include_colab_link": true
    }
  },
  "cells": [
    {
      "cell_type": "markdown",
      "metadata": {
        "id": "view-in-github",
        "colab_type": "text"
      },
      "source": [
        "<a href=\"https://colab.research.google.com/github/filkinmaksim/probability_theory_laboratory/blob/master/%D0%9B%D0%B0%D0%B1%D0%BE%D1%80%D0%B0%D1%82%D0%BE%D1%80%D0%BD%D0%B5_%D0%B7%D0%B0%D0%BD%D1%8F%D1%82%D1%82%D1%8F_1.ipynb\" target=\"_parent\"><img src=\"https://colab.research.google.com/assets/colab-badge.svg\" alt=\"Open In Colab\"/></a>"
      ]
    },
    {
      "cell_type": "markdown",
      "metadata": {
        "id": "6UoJuPnCLV3z",
        "colab_type": "text"
      },
      "source": [
        "# Лабораторне заняття №1"
      ]
    },
    {
      "cell_type": "markdown",
      "metadata": {
        "id": "JQsioE78LV38",
        "colab_type": "text"
      },
      "source": [
        "## 1 Перестановки"
      ]
    },
    {
      "cell_type": "markdown",
      "metadata": {
        "id": "tR6J8WG_LV4E",
        "colab_type": "text"
      },
      "source": [
        "### 1.1 Використовуючи власну функцію"
      ]
    },
    {
      "cell_type": "code",
      "metadata": {
        "id": "-31OPGndLV4J",
        "colab_type": "code",
        "colab": {}
      },
      "source": [
        "def permute(A):\n",
        "    if len(A)==1:\n",
        "        return [tuple(A)]\n",
        "    permutations = []\n",
        "    for x in A:\n",
        "        for y in permute(A-{x}):\n",
        "            permutations.append((x,)+y)\n",
        "    return permutations"
      ],
      "execution_count": 0,
      "outputs": []
    },
    {
      "cell_type": "code",
      "metadata": {
        "id": "qi4b1dExLV4p",
        "colab_type": "code",
        "colab": {}
      },
      "source": [
        "A = {1, 2, 3}"
      ],
      "execution_count": 0,
      "outputs": []
    },
    {
      "cell_type": "code",
      "metadata": {
        "id": "TwsMJC4yLV47",
        "colab_type": "code",
        "outputId": "e1a4b6c9-1ee9-4a9a-8f88-12822e90ba11",
        "colab": {
          "base_uri": "https://localhost:8080/",
          "height": 52
        }
      },
      "source": [
        "# Використовуючи власну функцію\n",
        "permute_all = set(permute(A))\n",
        "print(\"Перестановки множини {}: {}\".format(A,permute_all))\n",
        "print(\"Кількість перестановок: \", len(permute_all))"
      ],
      "execution_count": 8,
      "outputs": [
        {
          "output_type": "stream",
          "text": [
            "Перестановки множини {1, 2, 3}: {(3, 1, 2), (1, 3, 2), (3, 2, 1), (2, 3, 1), (1, 2, 3), (2, 1, 3)}\n",
            "Кількість перестановок:  6\n"
          ],
          "name": "stdout"
        }
      ]
    },
    {
      "cell_type": "markdown",
      "metadata": {
        "id": "kafWAqhILV5K",
        "colab_type": "text"
      },
      "source": [
        "### 1.2 Використовуючи бібліотеку `itertools`"
      ]
    },
    {
      "cell_type": "code",
      "metadata": {
        "id": "oWla6wBcLV5N",
        "colab_type": "code",
        "colab": {}
      },
      "source": [
        "from itertools import permutations"
      ],
      "execution_count": 0,
      "outputs": []
    },
    {
      "cell_type": "code",
      "metadata": {
        "id": "zxRFKKgQLV5a",
        "colab_type": "code",
        "colab": {}
      },
      "source": [
        "A = {1, 2, 3}"
      ],
      "execution_count": 0,
      "outputs": []
    },
    {
      "cell_type": "code",
      "metadata": {
        "id": "uNqJ5-ryLV5m",
        "colab_type": "code",
        "outputId": "a2fefa37-a0ba-4619-f307-99c6dd1d5001",
        "colab": {
          "base_uri": "https://localhost:8080/",
          "height": 52
        }
      },
      "source": [
        "# Використовуючи бібліотеку itertools\n",
        "permute_all = set(permutations(A))\n",
        "print(\"Перестановки множини {}: {}\".format(A,permute_all))\n",
        "print(\"Кількість перестановок: \", len(permute_all))"
      ],
      "execution_count": 11,
      "outputs": [
        {
          "output_type": "stream",
          "text": [
            "Перестановки множини {1, 2, 3}: {(3, 1, 2), (1, 3, 2), (3, 2, 1), (2, 3, 1), (1, 2, 3), (2, 1, 3)}\n",
            "Кількість перестановок:  6\n"
          ],
          "name": "stdout"
        }
      ]
    },
    {
      "cell_type": "markdown",
      "metadata": {
        "id": "WfNE2KXRLV57",
        "colab_type": "text"
      },
      "source": [
        "### 1.3 Задача\n",
        "Виведіть всі можливі перестановки та порахуйте їх кількість від таких множин:\n",
        "- {1, 3, 5}\n",
        "- {1, 2, 3, 4}\n",
        "- {1, 2, 2, 1}\n",
        "\n",
        "Порахуйте кількість перестановок таких множин:\n",
        "- {1, 2, 3, 4, 5}\n",
        "- {1, 2, 3, 4, 5, 6, 7}\n",
        "- {1, 3, 5, 7, 9, 11, 13, 15, 17, 19}\n",
        "\n",
        "**Зауваження.** Спробуйте задати множину $\\{1, 2, 2, 1\\}$ у вигляді списку, тобто $A = [1, 2, 2, 1]$."
      ]
    },
    {
      "cell_type": "code",
      "metadata": {
        "id": "KKKm9eJcLV5_",
        "colab_type": "code",
        "outputId": "c02b8a4a-033c-4837-e2b1-160653f42635",
        "colab": {
          "base_uri": "https://localhost:8080/",
          "height": 193
        }
      },
      "source": [
        "# Місце для Вашого коду\n",
        "from itertools import permutations\n",
        "\n",
        "def permutations_print(A, ok = 1):\n",
        "  permute_all = set(permutations(A))\n",
        "  if ok:\n",
        "    print(\"Перестановки множини {}: {}\".format(A,permute_all))\n",
        "  print(\"Кількість перестановок: \", len(permute_all))\n",
        "\n",
        "permutations_print({1,3,5})\n",
        "permutations_print({1,2,3,4})\n",
        "permutations_print([1,2,2,1])\n",
        "permutations_print({1,2,3,4,5}, 0)\n",
        "permutations_print({1,2,3,4,5,6,7}, 0)\n",
        "permutations_print({1,3,5,7,9,11,13,15,17,19}, 0)"
      ],
      "execution_count": 12,
      "outputs": [
        {
          "output_type": "stream",
          "text": [
            "Перестановки множини {1, 3, 5}: {(3, 5, 1), (5, 3, 1), (1, 5, 3), (3, 1, 5), (1, 3, 5), (5, 1, 3)}\n",
            "Кількість перестановок:  6\n",
            "Перестановки множини {1, 2, 3, 4}: {(4, 1, 2, 3), (1, 3, 2, 4), (3, 4, 1, 2), (1, 4, 2, 3), (4, 2, 3, 1), (2, 4, 1, 3), (4, 3, 1, 2), (2, 1, 3, 4), (3, 1, 4, 2), (3, 2, 4, 1), (1, 3, 4, 2), (1, 2, 4, 3), (2, 4, 3, 1), (3, 1, 2, 4), (4, 1, 3, 2), (2, 3, 1, 4), (4, 2, 1, 3), (1, 2, 3, 4), (1, 4, 3, 2), (3, 4, 2, 1), (2, 3, 4, 1), (4, 3, 2, 1), (3, 2, 1, 4), (2, 1, 4, 3)}\n",
            "Кількість перестановок:  24\n",
            "Перестановки множини [1, 2, 2, 1]: {(1, 2, 1, 2), (1, 1, 2, 2), (2, 1, 2, 1), (2, 2, 1, 1), (2, 1, 1, 2), (1, 2, 2, 1)}\n",
            "Кількість перестановок:  6\n",
            "Кількість перестановок:  120\n",
            "Кількість перестановок:  5040\n",
            "Кількість перестановок:  3628800\n"
          ],
          "name": "stdout"
        }
      ]
    },
    {
      "cell_type": "markdown",
      "metadata": {
        "id": "4_PLYoMaLV6K",
        "colab_type": "text"
      },
      "source": [
        "### 1.4 Задача\n",
        "Виведіть всі можливі перестановки без нерухомих точок та порахуйте їх кількість від таких множин:\n",
        "- {1, 2, 3}\n",
        "- {1, 2, 3, 4}\n",
        "- {1, 3, 5, 7}\n",
        "- {1, 2, 2, 1}\n",
        "\n",
        "_Перестановка без нерухомих точок_ - це така перестановка, в якій позиція кожного елементу не збігається з його позицією в початковій множині.\n",
        "**Приклад.** Для множини {1, 2, 3, 4, 5}:\n",
        "- {4, 1, 5, 2, 3} - перестановка без нерухомих точок\n",
        "- {4, **2**, 1, 3, **5**} - перестановка з нерухомими точками"
      ]
    },
    {
      "cell_type": "code",
      "metadata": {
        "id": "ad4L9CD1LV6N",
        "colab_type": "code",
        "outputId": "5ca1981c-4b5d-4791-e6be-62031c946929",
        "colab": {
          "base_uri": "https://localhost:8080/",
          "height": 156
        }
      },
      "source": [
        "# Місце для Вашого коду\n",
        "from itertools import permutations\n",
        "\n",
        "def permutation_without_fixed_points(A):\n",
        "    permute_all = set(permutations(A))\n",
        "    temper = list(A)\n",
        "    permutation_fixed_points = set()\n",
        "    for x in permute_all:\n",
        "        for i, y in enumerate(x):\n",
        "            if y == temper[i]:\n",
        "                permutation_fixed_points.add(x)\n",
        "                break\n",
        "                \n",
        "    print(\"Перестановки без нерухомих точок множини {}: {}\".format(A,permute_all - permutation_fixed_points))\n",
        "    print(\"Кількість перестановок без нерухомих точок: \", len(permute_all - permutation_fixed_points))\n",
        "\n",
        "permutation_without_fixed_points({1,2,3})\n",
        "permutation_without_fixed_points({1,2,3,4})\n",
        "permutation_without_fixed_points({1,3,5,7})\n",
        "permutation_without_fixed_points([1,2,2,1])\n"
      ],
      "execution_count": 13,
      "outputs": [
        {
          "output_type": "stream",
          "text": [
            "Перестановки без нерухомих точок множини {1, 2, 3}: {(3, 1, 2), (2, 3, 1)}\n",
            "Кількість перестановок без нерухомих точок:  2\n",
            "Перестановки без нерухомих точок множини {1, 2, 3, 4}: {(2, 1, 4, 3), (4, 1, 2, 3), (3, 4, 1, 2), (3, 1, 4, 2), (3, 4, 2, 1), (2, 4, 1, 3), (2, 3, 4, 1), (4, 3, 2, 1), (4, 3, 1, 2)}\n",
            "Кількість перестановок без нерухомих точок:  9\n",
            "Перестановки без нерухомих точок множини {1, 3, 5, 7}: {(5, 7, 1, 3), (3, 5, 7, 1), (5, 7, 3, 1), (7, 1, 3, 5), (3, 7, 1, 5), (3, 1, 7, 5), (7, 5, 3, 1), (7, 5, 1, 3), (5, 1, 7, 3)}\n",
            "Кількість перестановок без нерухомих точок:  9\n",
            "Перестановки без нерухомих точок множини [1, 2, 2, 1]: {(2, 1, 1, 2)}\n",
            "Кількість перестановок без нерухомих точок:  1\n"
          ],
          "name": "stdout"
        }
      ]
    },
    {
      "cell_type": "markdown",
      "metadata": {
        "id": "rugYgWDXLV6Y",
        "colab_type": "text"
      },
      "source": [
        "### 1.5 Задача\n",
        "Виведіть всі можливі перестановки, в яких перші $4$ елементи зростають, а наступні спадають, та порахуйте їх кількість від таких множин:\n",
        "- {1, 2, 3, 4, 5, 6, 7, 8}\n",
        "- {1, 2, 3, 4, 5, 6, 7, 8, 9, 10}\n",
        "\n",
        "**Зауваження.** Нехай перестановка\n",
        "$\\pi = \\left( \\sigma_1, \\sigma_2, \\sigma_3, \\sigma_4, \\sigma_5, \\sigma_6, \\sigma_7, \\sigma_8 \\right)$.\n",
        "Тоді має виконуватися така умова:\n",
        "$$\n",
        "  \\sigma_1 < \\sigma_2 < \\sigma_3 < \\sigma_4 > \\sigma_5 > \\sigma_6 > \\sigma_7 > \\sigma_8.\n",
        "$$"
      ]
    },
    {
      "cell_type": "code",
      "metadata": {
        "id": "sjaEW82hLV6d",
        "colab_type": "code",
        "outputId": "d7528161-eca6-403a-c9f6-012ca1764290",
        "colab": {
          "base_uri": "https://localhost:8080/",
          "height": 106
        }
      },
      "source": [
        "# Місце для Вашого коду\n",
        "\n",
        "from itertools import permutations\n",
        "\n",
        "def permutation_1_5(A):\n",
        "    permute_all = set(permutations(A))\n",
        "    temper = list(A)\n",
        "    permutation_minus = set()\n",
        "    for x in permute_all:\n",
        "        ok = 0\n",
        "        pre = -1\n",
        "        for i, y in enumerate(x):\n",
        "            if ok == 0:\n",
        "                ok = 1\n",
        "            else:\n",
        "                if (i >= 4 and pre <= y) or (i < 4 and pre >= y):\n",
        "                    permutation_minus.add(x)\n",
        "                    break\n",
        "            pre = y  \n",
        "    print(\"Перестановки множини {} за условием 1.5: {}\".format(A,permute_all - permutation_minus))\n",
        "    print(\"Кількість перестановок за условием 1.5: \", len(permute_all - permutation_minus))\n",
        "\n",
        "permutation_1_5({1,2,3,4,5,6,7,8})\n",
        "permutation_1_5({1,2,3,4,5,6,7,8,9,10})"
      ],
      "execution_count": 14,
      "outputs": [
        {
          "output_type": "stream",
          "text": [
            "Перестановки множини {1, 2, 3, 4, 5, 6, 7, 8} за условием 1.5: {(2, 5, 6, 8, 7, 4, 3, 1), (1, 2, 5, 8, 7, 6, 4, 3), (1, 3, 4, 8, 7, 6, 5, 2), (2, 4, 6, 8, 7, 5, 3, 1), (3, 4, 6, 8, 7, 5, 2, 1), (2, 5, 7, 8, 6, 4, 3, 1), (5, 6, 7, 8, 4, 3, 2, 1), (2, 3, 4, 8, 7, 6, 5, 1), (2, 4, 7, 8, 6, 5, 3, 1), (1, 5, 6, 8, 7, 4, 3, 2), (2, 3, 6, 8, 7, 5, 4, 1), (2, 3, 7, 8, 6, 5, 4, 1), (1, 6, 7, 8, 5, 4, 3, 2), (1, 4, 6, 8, 7, 5, 3, 2), (1, 5, 7, 8, 6, 4, 3, 2), (4, 5, 6, 8, 7, 3, 2, 1), (3, 4, 5, 8, 7, 6, 2, 1), (2, 4, 5, 8, 7, 6, 3, 1), (1, 4, 7, 8, 6, 5, 3, 2), (3, 4, 7, 8, 6, 5, 2, 1), (1, 4, 5, 8, 7, 6, 3, 2), (3, 5, 7, 8, 6, 4, 2, 1), (3, 6, 7, 8, 5, 4, 2, 1), (4, 5, 7, 8, 6, 3, 2, 1), (1, 2, 6, 8, 7, 5, 4, 3), (1, 2, 7, 8, 6, 5, 4, 3), (1, 3, 7, 8, 6, 5, 4, 2), (2, 6, 7, 8, 5, 4, 3, 1), (1, 2, 4, 8, 7, 6, 5, 3), (1, 3, 5, 8, 7, 6, 4, 2), (1, 2, 3, 8, 7, 6, 5, 4), (3, 5, 6, 8, 7, 4, 2, 1), (4, 6, 7, 8, 5, 3, 2, 1), (1, 3, 6, 8, 7, 5, 4, 2), (2, 3, 5, 8, 7, 6, 4, 1)}\n",
            "Кількість перестановок за условием 1.5:  35\n",
            "Перестановки множини {1, 2, 3, 4, 5, 6, 7, 8, 9, 10} за условием 1.5: {(1, 2, 4, 10, 9, 8, 7, 6, 5, 3), (1, 4, 7, 10, 9, 8, 6, 5, 3, 2), (1, 2, 8, 10, 9, 7, 6, 5, 4, 3), (2, 3, 7, 10, 9, 8, 6, 5, 4, 1), (3, 5, 7, 10, 9, 8, 6, 4, 2, 1), (2, 7, 8, 10, 9, 6, 5, 4, 3, 1), (4, 6, 8, 10, 9, 7, 5, 3, 2, 1), (3, 6, 7, 10, 9, 8, 5, 4, 2, 1), (1, 4, 6, 10, 9, 8, 7, 5, 3, 2), (1, 2, 9, 10, 8, 7, 6, 5, 4, 3), (2, 5, 8, 10, 9, 7, 6, 4, 3, 1), (4, 5, 7, 10, 9, 8, 6, 3, 2, 1), (3, 5, 6, 10, 9, 8, 7, 4, 2, 1), (3, 7, 8, 10, 9, 6, 5, 4, 2, 1), (1, 7, 9, 10, 8, 6, 5, 4, 3, 2), (4, 8, 9, 10, 7, 6, 5, 3, 2, 1), (5, 6, 7, 10, 9, 8, 4, 3, 2, 1), (2, 3, 8, 10, 9, 7, 6, 5, 4, 1), (2, 4, 9, 10, 8, 7, 6, 5, 3, 1), (3, 6, 8, 10, 9, 7, 5, 4, 2, 1), (1, 3, 8, 10, 9, 7, 6, 5, 4, 2), (6, 7, 9, 10, 8, 5, 4, 3, 2, 1), (3, 8, 9, 10, 7, 6, 5, 4, 2, 1), (1, 2, 7, 10, 9, 8, 6, 5, 4, 3), (1, 4, 5, 10, 9, 8, 7, 6, 3, 2), (4, 5, 8, 10, 9, 7, 6, 3, 2, 1), (5, 7, 8, 10, 9, 6, 4, 3, 2, 1), (3, 4, 7, 10, 9, 8, 6, 5, 2, 1), (1, 2, 3, 10, 9, 8, 7, 6, 5, 4), (1, 5, 8, 10, 9, 7, 6, 4, 3, 2), (7, 8, 9, 10, 6, 5, 4, 3, 2, 1), (5, 6, 8, 10, 9, 7, 4, 3, 2, 1), (2, 4, 6, 10, 9, 8, 7, 5, 3, 1), (1, 4, 8, 10, 9, 7, 6, 5, 3, 2), (2, 4, 8, 10, 9, 7, 6, 5, 3, 1), (1, 3, 9, 10, 8, 7, 6, 5, 4, 2), (1, 3, 7, 10, 9, 8, 6, 5, 4, 2), (4, 7, 8, 10, 9, 6, 5, 3, 2, 1), (2, 3, 5, 10, 9, 8, 7, 6, 4, 1), (3, 4, 5, 10, 9, 8, 7, 6, 2, 1), (2, 4, 7, 10, 9, 8, 6, 5, 3, 1), (6, 8, 9, 10, 7, 5, 4, 3, 2, 1), (2, 5, 9, 10, 8, 7, 6, 4, 3, 1), (5, 6, 9, 10, 8, 7, 4, 3, 2, 1), (2, 6, 9, 10, 8, 7, 5, 4, 3, 1), (4, 5, 6, 10, 9, 8, 7, 3, 2, 1), (4, 5, 9, 10, 8, 7, 6, 3, 2, 1), (3, 4, 9, 10, 8, 7, 6, 5, 2, 1), (1, 2, 6, 10, 9, 8, 7, 5, 4, 3), (1, 5, 9, 10, 8, 7, 6, 4, 3, 2), (3, 7, 9, 10, 8, 6, 5, 4, 2, 1), (2, 5, 6, 10, 9, 8, 7, 4, 3, 1), (1, 5, 7, 10, 9, 8, 6, 4, 3, 2), (6, 7, 8, 10, 9, 5, 4, 3, 2, 1), (1, 3, 4, 10, 9, 8, 7, 6, 5, 2), (5, 7, 9, 10, 8, 6, 4, 3, 2, 1), (3, 5, 9, 10, 8, 7, 6, 4, 2, 1), (3, 5, 8, 10, 9, 7, 6, 4, 2, 1), (4, 6, 9, 10, 8, 7, 5, 3, 2, 1), (2, 4, 5, 10, 9, 8, 7, 6, 3, 1), (2, 6, 8, 10, 9, 7, 5, 4, 3, 1), (4, 7, 9, 10, 8, 6, 5, 3, 2, 1), (5, 8, 9, 10, 7, 6, 4, 3, 2, 1), (1, 6, 7, 10, 9, 8, 5, 4, 3, 2), (1, 8, 9, 10, 7, 6, 5, 4, 3, 2), (1, 6, 9, 10, 8, 7, 5, 4, 3, 2), (3, 4, 8, 10, 9, 7, 6, 5, 2, 1), (2, 3, 6, 10, 9, 8, 7, 5, 4, 1), (2, 7, 9, 10, 8, 6, 5, 4, 3, 1), (1, 3, 5, 10, 9, 8, 7, 6, 4, 2), (1, 3, 6, 10, 9, 8, 7, 5, 4, 2), (1, 5, 6, 10, 9, 8, 7, 4, 3, 2), (3, 4, 6, 10, 9, 8, 7, 5, 2, 1), (1, 4, 9, 10, 8, 7, 6, 5, 3, 2), (2, 3, 9, 10, 8, 7, 6, 5, 4, 1), (3, 6, 9, 10, 8, 7, 5, 4, 2, 1), (4, 6, 7, 10, 9, 8, 5, 3, 2, 1), (2, 5, 7, 10, 9, 8, 6, 4, 3, 1), (1, 7, 8, 10, 9, 6, 5, 4, 3, 2), (2, 6, 7, 10, 9, 8, 5, 4, 3, 1), (1, 2, 5, 10, 9, 8, 7, 6, 4, 3), (2, 8, 9, 10, 7, 6, 5, 4, 3, 1), (1, 6, 8, 10, 9, 7, 5, 4, 3, 2), (2, 3, 4, 10, 9, 8, 7, 6, 5, 1)}\n",
            "Кількість перестановок за условием 1.5:  84\n"
          ],
          "name": "stdout"
        }
      ]
    },
    {
      "cell_type": "markdown",
      "metadata": {
        "id": "2vvfqjAgLV6n",
        "colab_type": "text"
      },
      "source": [
        "## 2 Часткові перестановки"
      ]
    },
    {
      "cell_type": "markdown",
      "metadata": {
        "id": "Px1BkLMJLV6q",
        "colab_type": "text"
      },
      "source": [
        "### 2.1 Використовуючи бібліотеку `itertools`"
      ]
    },
    {
      "cell_type": "code",
      "metadata": {
        "id": "fURecHn3LV6s",
        "colab_type": "code",
        "colab": {}
      },
      "source": [
        "A = {1, 2, 3}\n",
        "k = 2"
      ],
      "execution_count": 0,
      "outputs": []
    },
    {
      "cell_type": "code",
      "metadata": {
        "id": "1iwBfiLJLV62",
        "colab_type": "code",
        "outputId": "12f57bb7-4ba2-487c-aea0-7917b3874d15",
        "colab": {
          "base_uri": "https://localhost:8080/",
          "height": 52
        }
      },
      "source": [
        "# перестановки довжини k множини A\n",
        "permute_k = list(permutations(A, k))\n",
        "print(\"Перестановки довжини {} множини {}: {}\".format(k,A,permute_k))\n",
        "print(\"Кількість таких перестановок: {}\".format(len(permute_k)))"
      ],
      "execution_count": 16,
      "outputs": [
        {
          "output_type": "stream",
          "text": [
            "Перестановки довжини 2 множини {1, 2, 3}: [(1, 2), (1, 3), (2, 1), (2, 3), (3, 1), (3, 2)]\n",
            "Кількість таких перестановок: 6\n"
          ],
          "name": "stdout"
        }
      ]
    },
    {
      "cell_type": "markdown",
      "metadata": {
        "id": "hcoCO8ZWLV6-",
        "colab_type": "text"
      },
      "source": [
        "### 2.2 Задача\n",
        "Нехай $n$ - розмір множини, $k$ - розмір перестановок.\n",
        "Виведіть всі можливі часткові перестановки та порахуйте їх кількість для таких параметрів:\n",
        "- $n = 4, k = 2$\n",
        "- $n = 4, k = 3$\n",
        "- $n = 5, k = 2$\n",
        "\n",
        "Порахуйте кількість часткових перестановок для таких параметрів:\n",
        "- $n = 6, k = 2$\n",
        "- $n = 6, k = 4$\n",
        "- $n = 8, k = 4$"
      ]
    },
    {
      "cell_type": "code",
      "metadata": {
        "id": "chP_6abfLV7C",
        "colab_type": "code",
        "outputId": "ba3e7c03-fb01-4ea0-cf30-4078da708a46",
        "colab": {
          "base_uri": "https://localhost:8080/",
          "height": 193
        }
      },
      "source": [
        "# Місце для Вашого коду\n",
        "def task_2_2(n, k, ok = 1):\n",
        "    A = {i for i in range(1,n + 1)}\n",
        "    permute_k = list(permutations(A, k))\n",
        "    if ok:\n",
        "        print(\"Перестановки довжини {} множини {}: {}\".format(k,A,permute_k))\n",
        "    print(\"Кількість таких перестановок: {}\".format(len(permute_k)))\n",
        "\n",
        "task_2_2(4,2)\n",
        "task_2_2(4,3)\n",
        "task_2_2(5,2)\n",
        "task_2_2(6,2,0)\n",
        "task_2_2(6,4,0)\n",
        "task_2_2(8,4,0)\n"
      ],
      "execution_count": 17,
      "outputs": [
        {
          "output_type": "stream",
          "text": [
            "Перестановки довжини 2 множини {1, 2, 3, 4}: [(1, 2), (1, 3), (1, 4), (2, 1), (2, 3), (2, 4), (3, 1), (3, 2), (3, 4), (4, 1), (4, 2), (4, 3)]\n",
            "Кількість таких перестановок: 12\n",
            "Перестановки довжини 3 множини {1, 2, 3, 4}: [(1, 2, 3), (1, 2, 4), (1, 3, 2), (1, 3, 4), (1, 4, 2), (1, 4, 3), (2, 1, 3), (2, 1, 4), (2, 3, 1), (2, 3, 4), (2, 4, 1), (2, 4, 3), (3, 1, 2), (3, 1, 4), (3, 2, 1), (3, 2, 4), (3, 4, 1), (3, 4, 2), (4, 1, 2), (4, 1, 3), (4, 2, 1), (4, 2, 3), (4, 3, 1), (4, 3, 2)]\n",
            "Кількість таких перестановок: 24\n",
            "Перестановки довжини 2 множини {1, 2, 3, 4, 5}: [(1, 2), (1, 3), (1, 4), (1, 5), (2, 1), (2, 3), (2, 4), (2, 5), (3, 1), (3, 2), (3, 4), (3, 5), (4, 1), (4, 2), (4, 3), (4, 5), (5, 1), (5, 2), (5, 3), (5, 4)]\n",
            "Кількість таких перестановок: 20\n",
            "Кількість таких перестановок: 30\n",
            "Кількість таких перестановок: 360\n",
            "Кількість таких перестановок: 1680\n"
          ],
          "name": "stdout"
        }
      ]
    },
    {
      "cell_type": "markdown",
      "metadata": {
        "id": "37Jb8Ny-LV7M",
        "colab_type": "text"
      },
      "source": [
        "## 3 Комбінації без повторень"
      ]
    },
    {
      "cell_type": "markdown",
      "metadata": {
        "id": "Q87wCkKWLV7N",
        "colab_type": "text"
      },
      "source": [
        "### 3.1 Використовуючи бібліотеку `itertools`"
      ]
    },
    {
      "cell_type": "code",
      "metadata": {
        "id": "Oksb5qCeLV7Q",
        "colab_type": "code",
        "colab": {}
      },
      "source": [
        "from itertools import combinations"
      ],
      "execution_count": 0,
      "outputs": []
    },
    {
      "cell_type": "code",
      "metadata": {
        "id": "7oGT8MxFLV7Y",
        "colab_type": "code",
        "colab": {}
      },
      "source": [
        "A = {1, 2, 3}\n",
        "k = 2"
      ],
      "execution_count": 0,
      "outputs": []
    },
    {
      "cell_type": "code",
      "metadata": {
        "id": "rX0Y0sVRLV7f",
        "colab_type": "code",
        "outputId": "7701746f-6ce3-4f41-bd1f-d13f66f139f3",
        "colab": {
          "base_uri": "https://localhost:8080/",
          "height": 52
        }
      },
      "source": [
        "# комбінації довжини k множини A\n",
        "choose_k = list(combinations(A,k))\n",
        "print(\"Комбінації довжини {} множини {}: {}\".format(k,A,choose_k))\n",
        "print(\"Кількість таких комбінацій: {}\".format(len(choose_k)  ))"
      ],
      "execution_count": 20,
      "outputs": [
        {
          "output_type": "stream",
          "text": [
            "Комбінації довжини 2 множини {1, 2, 3}: [(1, 2), (1, 3), (2, 3)]\n",
            "Кількість таких комбінацій: 3\n"
          ],
          "name": "stdout"
        }
      ]
    },
    {
      "cell_type": "markdown",
      "metadata": {
        "id": "1EkW9bVVLV7o",
        "colab_type": "text"
      },
      "source": [
        "### 3.2 Задача\n",
        "Нехай $n$ - розмір множини, $k$ - розмір комбінацій.\n",
        "Виведіть всі можливі комбінації без повторень та порахуйте їх кількість для таких параметрів:\n",
        "- $n = 4, k = 2$\n",
        "- $n = 4, k = 3$\n",
        "- $n = 5, k = 2$\n",
        "\n",
        "Порахуйте кількість комбінацій без повторень для таких параметрів:\n",
        "- $n = 6, k = 2$\n",
        "- $n = 6, k = 4$\n",
        "- $n = 8, k = 4$"
      ]
    },
    {
      "cell_type": "code",
      "metadata": {
        "id": "t2Znfpk1LV7r",
        "colab_type": "code",
        "outputId": "fa56e639-24a2-4c2d-fef2-f76857722bee",
        "colab": {
          "base_uri": "https://localhost:8080/",
          "height": 173
        }
      },
      "source": [
        "# Місце для Вашого коду\n",
        "def task_3_2(n, k, ok = 1):\n",
        "    A = {i for i in range(1,n + 1)}\n",
        "    choose_k = list(combinations(A, k))\n",
        "    if ok:\n",
        "        print(\"Перестановки довжини {} множини {}: {}\".format(k,A,choose_k))\n",
        "    print(\"Кількість таких перестановок: {}\".format(len(choose_k)))\n",
        "\n",
        "task_3_2(4,2)\n",
        "task_3_2(4,3)\n",
        "task_3_2(5,2)\n",
        "task_3_2(6,2,0)\n",
        "task_3_2(6,4,0)\n",
        "task_3_2(8,4,0)"
      ],
      "execution_count": 21,
      "outputs": [
        {
          "output_type": "stream",
          "text": [
            "Перестановки довжини 2 множини {1, 2, 3, 4}: [(1, 2), (1, 3), (1, 4), (2, 3), (2, 4), (3, 4)]\n",
            "Кількість таких перестановок: 6\n",
            "Перестановки довжини 3 множини {1, 2, 3, 4}: [(1, 2, 3), (1, 2, 4), (1, 3, 4), (2, 3, 4)]\n",
            "Кількість таких перестановок: 4\n",
            "Перестановки довжини 2 множини {1, 2, 3, 4, 5}: [(1, 2), (1, 3), (1, 4), (1, 5), (2, 3), (2, 4), (2, 5), (3, 4), (3, 5), (4, 5)]\n",
            "Кількість таких перестановок: 10\n",
            "Кількість таких перестановок: 15\n",
            "Кількість таких перестановок: 15\n",
            "Кількість таких перестановок: 70\n"
          ],
          "name": "stdout"
        }
      ]
    },
    {
      "cell_type": "markdown",
      "metadata": {
        "id": "xOO-z-SCLV7x",
        "colab_type": "text"
      },
      "source": [
        "### 3.3 Задача\n",
        "Нехай $A$ - множина з $10$ елементів, кожен з яких є цілим числом від $1$ до $20$.\n",
        "Тобто $$A = \\{ a_i \\}_{i = 1}^{10},\\\\ 1 \\leq a_i \\leq 20, \\quad i = 1, \\ldots, 10.$$\n",
        "Скільки елементів може бути в множині, яка складається із попарних сум елементів множини $A$?\n",
        "$$B = \\{ b_k \\, \\colon \\, b_k = a_i + a_j, \\quad a_i, a_j \\in A, \\, 1 \\leq i, j \\leq 10, \\, i \\neq j \\}_{k = 1}^{\\textbf{?}}$$"
      ]
    },
    {
      "cell_type": "code",
      "metadata": {
        "id": "08HQLsakLV7z",
        "colab_type": "code",
        "colab": {
          "base_uri": "https://localhost:8080/",
          "height": 34
        },
        "outputId": "1a5d6682-e590-4ffd-c6f7-9efcf06ee84a"
      },
      "source": [
        "# Місце для Вашого коду\n",
        "\n",
        "from itertools import product\n",
        "from random import randint\n",
        "#arr = [i for i in range(1,21)]\n",
        "#A = list(product(arr, repeat=10))\n",
        "A = [randint(1,20) for _ in range(10)]\n",
        "len_B = set()\n",
        "choose_k = list(combinations(A, 2))\n",
        "B = set()\n",
        "for y in choose_k:\n",
        "  B.add(y[0] + y[1])\n",
        "len_B.add(len(B))\n",
        "print(len_B)"
      ],
      "execution_count": 24,
      "outputs": [
        {
          "output_type": "stream",
          "text": [
            "{24}\n"
          ],
          "name": "stdout"
        }
      ]
    },
    {
      "cell_type": "markdown",
      "metadata": {
        "id": "cXzjDX3lLV77",
        "colab_type": "text"
      },
      "source": [
        "## 4 Комбінації з повтореннями"
      ]
    },
    {
      "cell_type": "markdown",
      "metadata": {
        "id": "VHG8lXt2LV79",
        "colab_type": "text"
      },
      "source": [
        "### 4.1 Використовуючи бібліотеку `itertools`"
      ]
    },
    {
      "cell_type": "code",
      "metadata": {
        "id": "SyU_cz4SLV8B",
        "colab_type": "code",
        "colab": {}
      },
      "source": [
        "from itertools import combinations_with_replacement"
      ],
      "execution_count": 0,
      "outputs": []
    },
    {
      "cell_type": "code",
      "metadata": {
        "id": "eOuNMm8MLV8J",
        "colab_type": "code",
        "colab": {}
      },
      "source": [
        "A = {1, 2, 3}\n",
        "k = 2"
      ],
      "execution_count": 0,
      "outputs": []
    },
    {
      "cell_type": "code",
      "metadata": {
        "id": "zbI23ENULV8O",
        "colab_type": "code",
        "outputId": "3854ecbe-9bca-4b9e-8df9-d4080d7b8080",
        "colab": {
          "base_uri": "https://localhost:8080/",
          "height": 52
        }
      },
      "source": [
        "# комбінації довжини k множини A\n",
        "choose_k = list(combinations_with_replacement(A,k))\n",
        "print(\"Комбінації довжини {} множини {}: {}\".format(k,A,choose_k))\n",
        "print(\"Кількість таких комбінацій: {}\".format(len(choose_k)  ))"
      ],
      "execution_count": 27,
      "outputs": [
        {
          "output_type": "stream",
          "text": [
            "Комбінації довжини 2 множини {1, 2, 3}: [(1, 1), (1, 2), (1, 3), (2, 2), (2, 3), (3, 3)]\n",
            "Кількість таких комбінацій: 6\n"
          ],
          "name": "stdout"
        }
      ]
    },
    {
      "cell_type": "markdown",
      "metadata": {
        "id": "7AdwaMwwLV8T",
        "colab_type": "text"
      },
      "source": [
        "### 4.2 Задача\n",
        "Нехай $n$ - розмір множини, $k$ - розмір комбінацій.\n",
        "Виведіть всі можливі комбінації з повтореннями та порахуйте їх кількість для таких параметрів:\n",
        "- $n = 4, k = 2$\n",
        "- $n = 4, k = 3$\n",
        "- $n = 5, k = 2$\n",
        "\n",
        "Порахуйте кількість комбінацій з повтореннями для таких параметрів:\n",
        "- $n = 6, k = 2$\n",
        "- $n = 6, k = 4$\n",
        "- $n = 8, k = 4$"
      ]
    },
    {
      "cell_type": "code",
      "metadata": {
        "id": "ctZPXwYLLV8U",
        "colab_type": "code",
        "outputId": "e2da58fb-2033-4d28-c3d1-9b244b685e50",
        "colab": {
          "base_uri": "https://localhost:8080/",
          "height": 173
        }
      },
      "source": [
        "# Місце для Вашого коду\n",
        "\n",
        "def task_4_2(n, k, ok = 1):\n",
        "    A = {i for i in range(1,n + 1)}\n",
        "    choose_k = list(combinations_with_replacement(A, k))\n",
        "    if ok:\n",
        "        print(\"Перестановки довжини {} множини {}: {}\".format(k,A,choose_k))\n",
        "    print(\"Кількість таких перестановок: {}\".format(len(choose_k)))\n",
        "\n",
        "task_3_2(4,2)\n",
        "task_3_2(4,3)\n",
        "task_3_2(5,2)\n",
        "task_3_2(6,2,0)\n",
        "task_3_2(6,4,0)\n",
        "task_3_2(8,4,0)"
      ],
      "execution_count": 28,
      "outputs": [
        {
          "output_type": "stream",
          "text": [
            "Перестановки довжини 2 множини {1, 2, 3, 4}: [(1, 2), (1, 3), (1, 4), (2, 3), (2, 4), (3, 4)]\n",
            "Кількість таких перестановок: 6\n",
            "Перестановки довжини 3 множини {1, 2, 3, 4}: [(1, 2, 3), (1, 2, 4), (1, 3, 4), (2, 3, 4)]\n",
            "Кількість таких перестановок: 4\n",
            "Перестановки довжини 2 множини {1, 2, 3, 4, 5}: [(1, 2), (1, 3), (1, 4), (1, 5), (2, 3), (2, 4), (2, 5), (3, 4), (3, 5), (4, 5)]\n",
            "Кількість таких перестановок: 10\n",
            "Кількість таких перестановок: 15\n",
            "Кількість таких перестановок: 15\n",
            "Кількість таких перестановок: 70\n"
          ],
          "name": "stdout"
        }
      ]
    },
    {
      "cell_type": "markdown",
      "metadata": {
        "id": "q7ZcJkiKLV8f",
        "colab_type": "text"
      },
      "source": [
        "### 4.3 Задача\n",
        "Скільки існує 6-цифрових наборів таких, що сума перших трьох цифр дорівнює сумі останніх трьох?\n",
        "\n",
        "**Зауваження 1.** В задачі фігурують 6-цифрові набори, а не числа. Тобто перша цифра може дорівнювати $0$.\n",
        "\n",
        "**Зауваження 2.** Задача передбачає використання функції\n",
        "[product](https://docs.python.org/3/library/itertools.html#itertools.product)."
      ]
    },
    {
      "cell_type": "code",
      "metadata": {
        "id": "Eu4FucASLV8h",
        "colab_type": "code",
        "outputId": "036d0ab2-cefd-41b2-9e54-f600ce6728d1",
        "colab": {
          "base_uri": "https://localhost:8080/",
          "height": 34
        }
      },
      "source": [
        "# Місце для Вашого коду\n",
        "\n",
        "\n",
        "from itertools import product\n",
        "\n",
        "A = list(product('0123456789', repeat=6))\n",
        "answer = set()\n",
        "for x in A:\n",
        "    if x[0] != '0':\n",
        "       if int(x[0]) + int(x[1]) + int(x[2]) == int(x[3]) + int(x[4]) + int(x[5]):\n",
        "          answer.add(x)\n",
        "print(len(answer)) "
      ],
      "execution_count": 29,
      "outputs": [
        {
          "output_type": "stream",
          "text": [
            "50412\n"
          ],
          "name": "stdout"
        }
      ]
    },
    {
      "cell_type": "markdown",
      "metadata": {
        "id": "36s4aR69LV8r",
        "colab_type": "text"
      },
      "source": [
        "### 4.4 Задача\n",
        "Скільки існує 6-цифрових чисел, в яких дві однакові цифри не стоять поряд?\n",
        "\n",
        "**Зауваження 1.** В задачі фігурують 6-цифрові числа, тобто перша цифра не може дорівнювати $0$.\n",
        "\n",
        "**Зауваження 2.** Задача передбачає використання функції\n",
        "[product](https://docs.python.org/3/library/itertools.html#itertools.product)."
      ]
    },
    {
      "cell_type": "code",
      "metadata": {
        "id": "OsTivY-PLV8s",
        "colab_type": "code",
        "outputId": "a9ae8bcf-a49a-4c15-8e10-9facde60372f",
        "colab": {
          "base_uri": "https://localhost:8080/",
          "height": 34
        }
      },
      "source": [
        "# Місце для Вашого коду\n",
        "\n",
        "\n",
        "from itertools import product\n",
        "\n",
        "\n",
        "A = list(product('0123456789', repeat=6))\n",
        "answer = set()\n",
        "for x in A:\n",
        "    if x[0] != '0':\n",
        "       pre = 10\n",
        "       ok = True\n",
        "       for y in x:\n",
        "          if pre == y:\n",
        "              ok = False\n",
        "          pre = y\n",
        "       if ok:\n",
        "          answer.add(x)\n",
        "print(len(answer)) "
      ],
      "execution_count": 30,
      "outputs": [
        {
          "output_type": "stream",
          "text": [
            "531441\n"
          ],
          "name": "stdout"
        }
      ]
    },
    {
      "cell_type": "code",
      "metadata": {
        "id": "LO4O8-REgYcG",
        "colab_type": "code",
        "colab": {}
      },
      "source": [
        ""
      ],
      "execution_count": 0,
      "outputs": []
    }
  ]
}