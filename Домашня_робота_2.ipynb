{
  "nbformat": 4,
  "nbformat_minor": 0,
  "metadata": {
    "kernelspec": {
      "display_name": "Python 3",
      "language": "python",
      "name": "python3"
    },
    "language_info": {
      "codemirror_mode": {
        "name": "ipython",
        "version": 3
      },
      "file_extension": ".py",
      "mimetype": "text/x-python",
      "name": "python",
      "nbconvert_exporter": "python",
      "pygments_lexer": "ipython3",
      "version": "3.6.1"
    },
    "colab": {
      "name": "Домашня робота 2.ipynb",
      "provenance": [],
      "toc_visible": true,
      "include_colab_link": true
    }
  },
  "cells": [
    {
      "cell_type": "markdown",
      "metadata": {
        "id": "view-in-github",
        "colab_type": "text"
      },
      "source": [
        "<a href=\"https://colab.research.google.com/github/filkinmaksim/probability_theory_laboratory/blob/master/%D0%94%D0%BE%D0%BC%D0%B0%D1%88%D0%BD%D1%8F_%D1%80%D0%BE%D0%B1%D0%BE%D1%82%D0%B0_2.ipynb\" target=\"_parent\"><img src=\"https://colab.research.google.com/assets/colab-badge.svg\" alt=\"Open In Colab\"/></a>"
      ]
    },
    {
      "cell_type": "markdown",
      "metadata": {
        "id": "3I9GLVoGzIQO",
        "colab_type": "text"
      },
      "source": [
        "# Домашня робота №2"
      ]
    },
    {
      "cell_type": "markdown",
      "metadata": {
        "id": "fPzecyu_zIQY",
        "colab_type": "text"
      },
      "source": [
        "## 1 Пароль\n",
        "Напишіть програму (функцію) для генерування випадкового пароля з такими обмеженнями:\n",
        "- пароль складається з рівно $10$ символів\n",
        "- пароль містить хоча б одну маленьку латинську літеру [a-z]\n",
        "- пароль містить хоча б одну велику латинську літеру [A-Z]\n",
        "- пароль містить хоча б одну цифру [0-9]\n",
        "- пароль містить хоча б один спеціальний символ [~!@#$%^&*()-_+=\\/{}[].,?<>:;]"
      ]
    },
    {
      "cell_type": "code",
      "metadata": {
        "id": "cuAbrKzIzIQf",
        "colab_type": "code",
        "colab": {
          "base_uri": "https://localhost:8080/",
          "height": 34
        },
        "outputId": "8333e2b7-2824-4ce9-83f8-990ac5bfdb91"
      },
      "source": [
        "import numpy as np\n",
        "\n",
        "def random_password():\n",
        "  all_symbol = ['QWERTYUIOPASDFGHJKLZXCVBNM', 'qwertyuiopasdfghjklzxcvbnm', '0123456789', '~!@#$%^&*()-_+=\\/{}[].,?<>:;']\n",
        "  count = [0, 0, 0, 0]\n",
        "  count[0] = np.random.randint(1, 7)\n",
        "  count[1] = np.random.randint(1, 8 - count[0])\n",
        "  count[2] = np.random.randint(1, 9 - (count[1] + count[0]))\n",
        "  count[3] = 10 - (count[2] + count[1] + count[0])\n",
        "\n",
        "  np.random.shuffle(all_symbol)\n",
        "  np.random.shuffle(count)\n",
        "\n",
        "  password = list()\n",
        "  for j in range(4):\n",
        "    password.append(\"\".join([all_symbol[j][i] for i in np.random.randint(0, len(all_symbol[j]), size = count[j])]))\n",
        "\n",
        "  np.random.shuffle(password)\n",
        "  return \"\".join(password)\n",
        "\n",
        "print(random_password())"
      ],
      "execution_count": 29,
      "outputs": [
        {
          "output_type": "stream",
          "text": [
            "L\\:{{_52ye\n"
          ],
          "name": "stdout"
        }
      ]
    },
    {
      "cell_type": "markdown",
      "metadata": {
        "id": "_KLUAEiwzIQ8",
        "colab_type": "text"
      },
      "source": [
        "## 2 Герби в ряд\n",
        "Реалізуйте функцію для обчислення емпіричної та теоретичної імовірностей випадіння $k$ гербів (HEADS) підряд у серії з $n$ підкидань чесної монетки. Підрахуйте відповідні ймовірності для таких параметрів:\n",
        "- $k = 2, n = 10, 50, 100, 500, 1000, 5000, 10000$\n",
        "- $k = 3, n = 10, 50, 100, 500, 1000, 5000, 10000$\n",
        "\n",
        "**Зауваження.** Нехай $k = 2, n = 10$ та маємо таку послідовність результатів підкидання монети: $\\{ H, T, H, H, H, H, T, T, H, T \\}$. Тоді матимемо $3$ випадки випадіння двох гербів підряд та емпіричну ймовірність такої події $1/3$."
      ]
    },
    {
      "cell_type": "code",
      "metadata": {
        "id": "ZaOw_a5uzIQ_",
        "colab_type": "code",
        "colab": {
          "base_uri": "https://localhost:8080/",
          "height": 503
        },
        "outputId": "6bab1513-1384-4ff9-912c-cab39200643f"
      },
      "source": [
        "import numpy as np\n",
        "\n",
        "def task(n,k):\n",
        "  TheoreticalProbably = 1 / (1 << k)\n",
        "  print('Theoretical Probably (k = {}, n = {}) = {}'.format(k,n,TheoreticalProbably))\n",
        "\n",
        "  arr = np.random.randint(2, size = n)\n",
        "  count = 0\n",
        "  repeats = 0\n",
        "  for x in arr:\n",
        "    if x == 0:\n",
        "      repeats += 1\n",
        "      if repeats == k:\n",
        "        count += 1\n",
        "        repeats -= 1\n",
        "    else:\n",
        "      repeats = 0\n",
        "  EmpericProbably = count / (n - 1)\n",
        "  print('Emperic Probably (k = {}, n = {}) = {}'.format(k,n,EmpericProbably))\n",
        "\n",
        "k_all = [2, 3]\n",
        "n_all = [10, 50, 100, 500, 1000, 5000, 10000]\n",
        "for k in k_all:\n",
        "  for n in n_all:\n",
        "    task(n,k)      \n"
      ],
      "execution_count": 32,
      "outputs": [
        {
          "output_type": "stream",
          "text": [
            "Theoretical Probably (k = 2, n = 10) = 0.25\n",
            "Emperic Probably (k = 2, n = 10) = 0.2222222222222222\n",
            "Theoretical Probably (k = 2, n = 50) = 0.25\n",
            "Emperic Probably (k = 2, n = 50) = 0.24489795918367346\n",
            "Theoretical Probably (k = 2, n = 100) = 0.25\n",
            "Emperic Probably (k = 2, n = 100) = 0.30303030303030304\n",
            "Theoretical Probably (k = 2, n = 500) = 0.25\n",
            "Emperic Probably (k = 2, n = 500) = 0.25851703406813625\n",
            "Theoretical Probably (k = 2, n = 1000) = 0.25\n",
            "Emperic Probably (k = 2, n = 1000) = 0.25125125125125125\n",
            "Theoretical Probably (k = 2, n = 5000) = 0.25\n",
            "Emperic Probably (k = 2, n = 5000) = 0.2456491298259652\n",
            "Theoretical Probably (k = 2, n = 10000) = 0.25\n",
            "Emperic Probably (k = 2, n = 10000) = 0.2514251425142514\n",
            "Theoretical Probably (k = 3, n = 10) = 0.125\n",
            "Emperic Probably (k = 3, n = 10) = 0.0\n",
            "Theoretical Probably (k = 3, n = 50) = 0.125\n",
            "Emperic Probably (k = 3, n = 50) = 0.04081632653061224\n",
            "Theoretical Probably (k = 3, n = 100) = 0.125\n",
            "Emperic Probably (k = 3, n = 100) = 0.13131313131313133\n",
            "Theoretical Probably (k = 3, n = 500) = 0.125\n",
            "Emperic Probably (k = 3, n = 500) = 0.09018036072144289\n",
            "Theoretical Probably (k = 3, n = 1000) = 0.125\n",
            "Emperic Probably (k = 3, n = 1000) = 0.11811811811811812\n",
            "Theoretical Probably (k = 3, n = 5000) = 0.125\n",
            "Emperic Probably (k = 3, n = 5000) = 0.1242248449689938\n",
            "Theoretical Probably (k = 3, n = 10000) = 0.125\n",
            "Emperic Probably (k = 3, n = 10000) = 0.12311231123112311\n"
          ],
          "name": "stdout"
        }
      ]
    },
    {
      "cell_type": "markdown",
      "metadata": {
        "id": "_ZsAqRM0zIRM",
        "colab_type": "text"
      },
      "source": [
        "## 3 Найбільше число\n",
        "Реалізуйте функцію підрахунку точної (теоретичної) імовірності того, що максимальне число після $n$ кидків звичайного грального кубика дорівнює $x\\_max$, для таких параметрів:\n",
        "- $n = 3, x\\_max = 6$\n",
        "- $n = 2, x\\_max = 3$\n",
        "- $n = 3, x\\_max = 5$\n",
        "\n",
        "Тобто, якщо $X_i, i = 1, \\ldots, n$, - число на $i$-му кидку кубика, а $X = \\max\\limits_{1 \\leq i \\leq n} X_i$, то потрібно знайти ймовірність $\\textbf{P} \\left( X = x\\_max \\right)$.\n",
        "\n",
        "Підрахуйте також емпіричні ймовірності відповідних подій у випадку $10000$ симуляцій.\n",
        "\n",
        "**Зауваження.** Якщо введені параметри не мають сенсу, то повертати $0$.\n",
        "Тобто, якщо вводиться $x\\_max < 1$ або $x\\_max > 6$."
      ]
    },
    {
      "cell_type": "code",
      "metadata": {
        "id": "OC2_m9SmzIRQ",
        "colab_type": "code",
        "colab": {
          "base_uri": "https://localhost:8080/",
          "height": 121
        },
        "outputId": "996e3a15-ef37-4521-9d19-206c3027e1db"
      },
      "source": [
        "from itertools import product\n",
        "\n",
        "def task_3(n,x_max):\n",
        "  if x_max < 1 or x_max > 6:\n",
        "      print(0)\n",
        "      return\n",
        "  \n",
        "  arr_all = [x for x in product([1,2,3,4,5,6], repeat = n)]\n",
        "  TheoreticalProbably = len([x for x in arr_all if x_max == max(x)]) / len(arr_all)\n",
        "  print('Theoretical Probably (n = {}, x_max = {}) = {}'.format(n,x_max,TheoreticalProbably))\n",
        "\n",
        "  count = 0\n",
        "  for _ in range(10000):\n",
        "    if max(np.random.randint(low = 1, high = 7, size = n)) == x_max:\n",
        "      count += 1\n",
        "  EmpericProbably = count / 10000\n",
        "  print('Emperic Probably (n = {}, x_max = {}) = {}'.format(n,x_max,EmpericProbably))\n",
        "\n",
        "test = [(3,6),(2,3),(3,5)]\n",
        "for n,x_max in test:\n",
        "    task_3(n,x_max)\n"
      ],
      "execution_count": 37,
      "outputs": [
        {
          "output_type": "stream",
          "text": [
            "Theoretical Probably (n = 3, x_max = 6) = 0.4212962962962963\n",
            "Emperic Probably (n = 3, x_max = 6) = 0.41\n",
            "Theoretical Probably (n = 2, x_max = 3) = 0.1388888888888889\n",
            "Emperic Probably (n = 2, x_max = 3) = 0.1363\n",
            "Theoretical Probably (n = 3, x_max = 5) = 0.2824074074074074\n",
            "Emperic Probably (n = 3, x_max = 5) = 0.2863\n"
          ],
          "name": "stdout"
        }
      ]
    },
    {
      "cell_type": "markdown",
      "metadata": {
        "id": "EvmBhNbizIRb",
        "colab_type": "text"
      },
      "source": [
        "## 4 Сума чисел\n",
        "Реалізуйте функцію підрахунку точної (теоретичної) імовірності того, що сума чисел після $n$ кидків звичайного грального кубика дорівнює $s$, для таких параметрів:\n",
        "- $n = 3, s = 13$\n",
        "- $n = 2, s = 5$\n",
        "- $n = 3, s = 7$\n",
        "\n",
        "Тобто, якщо $X_i, i = 1, \\ldots, n$, - число на $i$-му кидку кубика, а $X = \\sum\\limits_{i = 1}^{n} X_i$, то потрібно знайти ймовірність $\\textbf{P} \\left( X = s \\right)$.\n",
        "\n",
        "Підрахуйте також емпіричні ймовірності відповідних подій у випадку $10000$ симуляцій.\n",
        "\n",
        "**Зауваження.** Якщо введені параметри не мають сенсу, то повертати $0$.\n",
        "Наприклад, якщо при $n = 3$ вводиться $s < 3$ або $s > 18$."
      ]
    },
    {
      "cell_type": "code",
      "metadata": {
        "id": "hccP5HNgzIRd",
        "colab_type": "code",
        "colab": {
          "base_uri": "https://localhost:8080/",
          "height": 121
        },
        "outputId": "e5755846-d6af-4b19-cf5e-4ee2b5ac3657"
      },
      "source": [
        "def task_4(n,s):\n",
        "  if s < 3 or s > 18:\n",
        "      print(0)\n",
        "      return\n",
        "  \n",
        "  arr_all = [x for x in product([1,2,3,4,5,6], repeat = n)]\n",
        "  TheoreticalProbably = len([x for x in arr_all if s == sum(x)]) / len(arr_all)\n",
        "  print('Theoretical Probably (n = {}, s = {}) = {}'.format(n,s,TheoreticalProbably))\n",
        "\n",
        "  count = 0\n",
        "  for _ in range(10000):\n",
        "    if sum(np.random.randint(low = 1, high = 7, size = n)) == s:\n",
        "      count += 1\n",
        "  EmpericProbably = count / 10000\n",
        "  print('Emperic Probably (n = {}, s = {}) = {}'.format(n,s,EmpericProbably))\n",
        "\n",
        "test = [(3,13),(2,5),(3,7)]\n",
        "for n,x_max in test:\n",
        "    task_4(n,x_max)"
      ],
      "execution_count": 39,
      "outputs": [
        {
          "output_type": "stream",
          "text": [
            "Theoretical Probably (n = 3, s = 13) = 0.09722222222222222\n",
            "Emperic Probably (n = 3, s = 13) = 0.0964\n",
            "Theoretical Probably (n = 2, s = 5) = 0.1111111111111111\n",
            "Emperic Probably (n = 2, s = 5) = 0.1089\n",
            "Theoretical Probably (n = 3, s = 7) = 0.06944444444444445\n",
            "Emperic Probably (n = 3, s = 7) = 0.0666\n"
          ],
          "name": "stdout"
        }
      ]
    },
    {
      "cell_type": "code",
      "metadata": {
        "id": "3RabmiNbH207",
        "colab_type": "code",
        "colab": {}
      },
      "source": [
        ""
      ],
      "execution_count": 0,
      "outputs": []
    }
  ]
}