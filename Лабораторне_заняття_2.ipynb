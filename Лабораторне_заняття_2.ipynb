{
  "nbformat": 4,
  "nbformat_minor": 0,
  "metadata": {
    "kernelspec": {
      "display_name": "Python 3",
      "language": "python",
      "name": "python3"
    },
    "language_info": {
      "codemirror_mode": {
        "name": "ipython",
        "version": 3
      },
      "file_extension": ".py",
      "mimetype": "text/x-python",
      "name": "python",
      "nbconvert_exporter": "python",
      "pygments_lexer": "ipython3",
      "version": "3.6.1"
    },
    "colab": {
      "name": "Лабораторне заняття 2.ipynb",
      "provenance": [],
      "include_colab_link": true
    }
  },
  "cells": [
    {
      "cell_type": "markdown",
      "metadata": {
        "id": "view-in-github",
        "colab_type": "text"
      },
      "source": [
        "<a href=\"https://colab.research.google.com/github/filkinmaksim/probability_theory_laboratory/blob/master/%D0%9B%D0%B0%D0%B1%D0%BE%D1%80%D0%B0%D1%82%D0%BE%D1%80%D0%BD%D0%B5_%D0%B7%D0%B0%D0%BD%D1%8F%D1%82%D1%82%D1%8F_2.ipynb\" target=\"_parent\"><img src=\"https://colab.research.google.com/assets/colab-badge.svg\" alt=\"Open In Colab\"/></a>"
      ]
    },
    {
      "cell_type": "markdown",
      "metadata": {
        "id": "YZgiGbw-V-Ie",
        "colab_type": "text"
      },
      "source": [
        "# Лабораторне заняття №2\n",
        "Знайомство з бібліотекою **NumPy**."
      ]
    },
    {
      "cell_type": "code",
      "metadata": {
        "id": "Ug-G9T6iV-Ik",
        "colab_type": "code",
        "colab": {}
      },
      "source": [
        "import numpy as np"
      ],
      "execution_count": 0,
      "outputs": []
    },
    {
      "cell_type": "markdown",
      "metadata": {
        "id": "aGvo1GjQV-Ix",
        "colab_type": "text"
      },
      "source": [
        "## 1 Огляд функцій випадкового вибору"
      ]
    },
    {
      "cell_type": "markdown",
      "metadata": {
        "id": "_ZzScAKiV-Iz",
        "colab_type": "text"
      },
      "source": [
        "### 1.1 Функція *choice*\n",
        "Для детальної інформації див. [документацію](https://docs.scipy.org/doc/numpy-1.14.1/reference/generated/numpy.random.choice.html)."
      ]
    },
    {
      "cell_type": "code",
      "metadata": {
        "id": "_IPufz9bV-I1",
        "colab_type": "code",
        "colab": {
          "base_uri": "https://localhost:8080/",
          "height": 34
        },
        "outputId": "f1ed614a-c89d-4602-8168-ea57db3c1e6a"
      },
      "source": [
        "a = [\"top\", 2, \"bottom\", 4.5]\n",
        "size = 10\n",
        "probs = [0.4, 0.2, 0.1, 0.3]\n",
        "replace = True\n",
        "print(np.random.choice(a, size=size, replace=replace, p=probs))"
      ],
      "execution_count": 30,
      "outputs": [
        {
          "output_type": "stream",
          "text": [
            "['top' 'top' 'top' 'top' 'top' 'top' 'top' 'top' '4.5' 'top']\n"
          ],
          "name": "stdout"
        }
      ]
    },
    {
      "cell_type": "markdown",
      "metadata": {
        "id": "l7rF_1JJV-JI",
        "colab_type": "text"
      },
      "source": [
        "Згенеруйте одну випадкову цифру, вважаючи їх рівноймовірними."
      ]
    },
    {
      "cell_type": "code",
      "metadata": {
        "id": "y_x5T3XEV-JO",
        "colab_type": "code",
        "colab": {
          "base_uri": "https://localhost:8080/",
          "height": 34
        },
        "outputId": "b52d4484-bea6-406c-c1d2-da98b10aaae2"
      },
      "source": [
        "# Місце для Вашого коду\n",
        "\n",
        "print(np.random.choice(10))"
      ],
      "execution_count": 31,
      "outputs": [
        {
          "output_type": "stream",
          "text": [
            "8\n"
          ],
          "name": "stdout"
        }
      ]
    },
    {
      "cell_type": "markdown",
      "metadata": {
        "id": "HNW38vaEV-JW",
        "colab_type": "text"
      },
      "source": [
        "Згенеруйте випадкову матрицю $4 \\times 6$ із рівноймовірних цифр."
      ]
    },
    {
      "cell_type": "code",
      "metadata": {
        "id": "CEuJ_6H2V-Ja",
        "colab_type": "code",
        "colab": {
          "base_uri": "https://localhost:8080/",
          "height": 85
        },
        "outputId": "e89486c7-87fc-4678-b4bc-42a086c5dc6e"
      },
      "source": [
        "# Місце для Вашого коду\n",
        "print(np.random.choice(10, size = (4,6)))"
      ],
      "execution_count": 32,
      "outputs": [
        {
          "output_type": "stream",
          "text": [
            "[[4 3 5 5 2 2]\n",
            " [5 7 6 4 0 0]\n",
            " [3 6 4 3 8 3]\n",
            " [6 0 9 4 1 4]]\n"
          ],
          "name": "stdout"
        }
      ]
    },
    {
      "cell_type": "markdown",
      "metadata": {
        "id": "IQNBzkXBV-Jr",
        "colab_type": "text"
      },
      "source": [
        "### 1.2 Функція *randint*\n",
        "Для детальної інформації див. [документацію](https://docs.scipy.org/doc/numpy-1.14.1/reference/generated/numpy.random.randint.html)."
      ]
    },
    {
      "cell_type": "code",
      "metadata": {
        "id": "UyKoivYQV-Jv",
        "colab_type": "code",
        "colab": {
          "base_uri": "https://localhost:8080/",
          "height": 34
        },
        "outputId": "b4f9ba44-1a42-4279-f770-31ab6f784116"
      },
      "source": [
        "low = 0\n",
        "high = 5\n",
        "size = 10\n",
        "print(np.random.randint(low=low, high=high, size=size))"
      ],
      "execution_count": 33,
      "outputs": [
        {
          "output_type": "stream",
          "text": [
            "[4 0 3 3 3 1 4 2 4 2]\n"
          ],
          "name": "stdout"
        }
      ]
    },
    {
      "cell_type": "markdown",
      "metadata": {
        "id": "mBR2Pc_TV-J5",
        "colab_type": "text"
      },
      "source": [
        "Згенеруйте одну випадкову цифру."
      ]
    },
    {
      "cell_type": "code",
      "metadata": {
        "id": "UYMWh1_fV-KA",
        "colab_type": "code",
        "colab": {
          "base_uri": "https://localhost:8080/",
          "height": 34
        },
        "outputId": "258aa1fa-645a-49d6-f7bb-c6a743c6abbb"
      },
      "source": [
        "# Місце для Вашого коду\n",
        "\n",
        "print(np.random.randint(low = 0, high = 9))"
      ],
      "execution_count": 34,
      "outputs": [
        {
          "output_type": "stream",
          "text": [
            "8\n"
          ],
          "name": "stdout"
        }
      ]
    },
    {
      "cell_type": "markdown",
      "metadata": {
        "id": "04BGajCRV-KI",
        "colab_type": "text"
      },
      "source": [
        "Згенеруйте випадкову матрицю $4 \\times 5$ із двоцифрових чисел."
      ]
    },
    {
      "cell_type": "code",
      "metadata": {
        "id": "RNNVbx_TV-KJ",
        "colab_type": "code",
        "colab": {
          "base_uri": "https://localhost:8080/",
          "height": 85
        },
        "outputId": "fdba6397-f339-413a-9cca-265306321ad7"
      },
      "source": [
        "# Місце для Вашого коду\n",
        "\n",
        "print(np.random.randint(low = 10, high=99, size = (4,5)))"
      ],
      "execution_count": 35,
      "outputs": [
        {
          "output_type": "stream",
          "text": [
            "[[39 87 40 28 36]\n",
            " [58 92 79 11 40]\n",
            " [46 48 73 62 65]\n",
            " [53 58 53 44 39]]\n"
          ],
          "name": "stdout"
        }
      ]
    },
    {
      "cell_type": "markdown",
      "metadata": {
        "id": "fgYEdEbbV-KW",
        "colab_type": "text"
      },
      "source": [
        "### 1.3 Функція *sample*\n",
        "Для детальної інформації див. [документацію](https://docs.scipy.org/doc/numpy-1.14.1/reference/generated/numpy.random.sample.html)."
      ]
    },
    {
      "cell_type": "code",
      "metadata": {
        "id": "98-ZAMTjV-KZ",
        "colab_type": "code",
        "colab": {
          "base_uri": "https://localhost:8080/",
          "height": 34
        },
        "outputId": "5307a7e5-18a0-46f7-a94c-196f130f286f"
      },
      "source": [
        "size = None\n",
        "print(np.random.sample(size=size))"
      ],
      "execution_count": 36,
      "outputs": [
        {
          "output_type": "stream",
          "text": [
            "0.5601876633734287\n"
          ],
          "name": "stdout"
        }
      ]
    },
    {
      "cell_type": "markdown",
      "metadata": {
        "id": "TgUBO5aNV-Kl",
        "colab_type": "text"
      },
      "source": [
        "Згенеруйте випадкову матрицю $3 \\times 4$ із чисел з інтервалу $[0, 1)$."
      ]
    },
    {
      "cell_type": "code",
      "metadata": {
        "id": "2XvOqJbBV-Kn",
        "colab_type": "code",
        "colab": {
          "base_uri": "https://localhost:8080/",
          "height": 68
        },
        "outputId": "e056a729-a6b7-4fa2-cf71-ab8dce5f9727"
      },
      "source": [
        "# Місце для Вашого коду\n",
        "\n",
        "print(np.random.sample(size = (3,4)))\n"
      ],
      "execution_count": 37,
      "outputs": [
        {
          "output_type": "stream",
          "text": [
            "[[0.17947848 0.95330001 0.7419936  0.8712505 ]\n",
            " [0.63945378 0.11641812 0.95047654 0.69939478]\n",
            " [0.56042329 0.07044948 0.15608917 0.10679917]]\n"
          ],
          "name": "stdout"
        }
      ]
    },
    {
      "cell_type": "markdown",
      "metadata": {
        "id": "GPH8iNXBV-Kt",
        "colab_type": "text"
      },
      "source": [
        "Згенеруйте 10 випадкових чисел з інтервалу $[a, b)$."
      ]
    },
    {
      "cell_type": "code",
      "metadata": {
        "id": "fEeDlZ1IV-Kz",
        "colab_type": "code",
        "colab": {}
      },
      "source": [
        "a = 3\n",
        "b = 5"
      ],
      "execution_count": 0,
      "outputs": []
    },
    {
      "cell_type": "code",
      "metadata": {
        "id": "TF2ujaNoV-K6",
        "colab_type": "code",
        "colab": {
          "base_uri": "https://localhost:8080/",
          "height": 51
        },
        "outputId": "345fcad7-301a-4c4d-cc5b-d7d82934e39e"
      },
      "source": [
        "# Місце для Вашого коду\n",
        "print((b - a) * np.random.sample(size = 10) + a)\n"
      ],
      "execution_count": 39,
      "outputs": [
        {
          "output_type": "stream",
          "text": [
            "[3.66699033 4.089673   4.5787859  3.58576926 3.4577109  4.30262762\n",
            " 3.68947184 3.48536474 4.8389379  3.78415453]\n"
          ],
          "name": "stdout"
        }
      ]
    },
    {
      "cell_type": "markdown",
      "metadata": {
        "id": "jDIjRWhkV-LI",
        "colab_type": "text"
      },
      "source": [
        "### 1.4 Функція *shuffle*\n",
        "Для детальної інформації див. [документацію](https://docs.scipy.org/doc/numpy-1.14.1/reference/generated/numpy.random.shuffle.html)."
      ]
    },
    {
      "cell_type": "code",
      "metadata": {
        "id": "pbrOhKWLV-LK",
        "colab_type": "code",
        "colab": {
          "base_uri": "https://localhost:8080/",
          "height": 34
        },
        "outputId": "c8cc3ea3-1fa3-4977-ea63-fc1634aca8c2"
      },
      "source": [
        "x = np.arange(10)\n",
        "np.random.shuffle(x)\n",
        "print(x)"
      ],
      "execution_count": 40,
      "outputs": [
        {
          "output_type": "stream",
          "text": [
            "[2 4 0 5 8 1 7 6 3 9]\n"
          ],
          "name": "stdout"
        }
      ]
    },
    {
      "cell_type": "markdown",
      "metadata": {
        "id": "tOKeZ6F4V-LU",
        "colab_type": "text"
      },
      "source": [
        "Перетасуйте матрицю $M$."
      ]
    },
    {
      "cell_type": "code",
      "metadata": {
        "id": "oeZehsanV-LY",
        "colab_type": "code",
        "colab": {
          "base_uri": "https://localhost:8080/",
          "height": 85
        },
        "outputId": "4ef8ff14-c03e-43b2-9a63-c8b27f908245"
      },
      "source": [
        "M = np.arange(20).reshape((4, 5))\n",
        "print(M)"
      ],
      "execution_count": 41,
      "outputs": [
        {
          "output_type": "stream",
          "text": [
            "[[ 0  1  2  3  4]\n",
            " [ 5  6  7  8  9]\n",
            " [10 11 12 13 14]\n",
            " [15 16 17 18 19]]\n"
          ],
          "name": "stdout"
        }
      ]
    },
    {
      "cell_type": "code",
      "metadata": {
        "id": "WlTe45qXV-Le",
        "colab_type": "code",
        "colab": {
          "base_uri": "https://localhost:8080/",
          "height": 85
        },
        "outputId": "5242e9e5-f24e-4e96-ffb8-dc857b215d87"
      },
      "source": [
        "# Місце для Вашого коду\n",
        "\n",
        "np.random.shuffle(M)\n",
        "print(M)"
      ],
      "execution_count": 42,
      "outputs": [
        {
          "output_type": "stream",
          "text": [
            "[[ 5  6  7  8  9]\n",
            " [10 11 12 13 14]\n",
            " [15 16 17 18 19]\n",
            " [ 0  1  2  3  4]]\n"
          ],
          "name": "stdout"
        }
      ]
    },
    {
      "cell_type": "markdown",
      "metadata": {
        "id": "GuhCj4RVV-Lq",
        "colab_type": "text"
      },
      "source": [
        "## 2 Відтворюваність результатів\n",
        "Можна задати початкове значення для генератора. Це зафіксує \"випадкову\" послідовність."
      ]
    },
    {
      "cell_type": "code",
      "metadata": {
        "id": "bJB3rrDfV-Ls",
        "colab_type": "code",
        "colab": {}
      },
      "source": [
        "np.random.seed(42)"
      ],
      "execution_count": 0,
      "outputs": []
    },
    {
      "cell_type": "code",
      "metadata": {
        "id": "fLgm0lnWV-L0",
        "colab_type": "code",
        "colab": {
          "base_uri": "https://localhost:8080/",
          "height": 34
        },
        "outputId": "b78c71b6-0552-4bc7-d446-93ac2e13cfbe"
      },
      "source": [
        "print(np.random.randint(10))"
      ],
      "execution_count": 44,
      "outputs": [
        {
          "output_type": "stream",
          "text": [
            "6\n"
          ],
          "name": "stdout"
        }
      ]
    },
    {
      "cell_type": "code",
      "metadata": {
        "id": "4edLsa0kV-L-",
        "colab_type": "code",
        "colab": {
          "base_uri": "https://localhost:8080/",
          "height": 34
        },
        "outputId": "a00e5c41-650a-47ff-c6d0-18fd66f6d955"
      },
      "source": [
        "print(np.random.randint(10))"
      ],
      "execution_count": 45,
      "outputs": [
        {
          "output_type": "stream",
          "text": [
            "3\n"
          ],
          "name": "stdout"
        }
      ]
    },
    {
      "cell_type": "code",
      "metadata": {
        "id": "m70aU9EJV-ME",
        "colab_type": "code",
        "colab": {
          "base_uri": "https://localhost:8080/",
          "height": 51
        },
        "outputId": "e0a0f083-a15f-4d69-d0c1-9c5a0d834913"
      },
      "source": [
        "np.random.seed(42)\n",
        "print(np.random.randint(10))\n",
        "print(np.random.randint(10))"
      ],
      "execution_count": 46,
      "outputs": [
        {
          "output_type": "stream",
          "text": [
            "6\n",
            "3\n"
          ],
          "name": "stdout"
        }
      ]
    },
    {
      "cell_type": "code",
      "metadata": {
        "id": "yFOD50slV-MN",
        "colab_type": "code",
        "colab": {
          "base_uri": "https://localhost:8080/",
          "height": 85
        },
        "outputId": "f6303c79-b2f0-45fc-f2b3-30642e726427"
      },
      "source": [
        "np.random.seed(42)\n",
        "print(np.random.randint(10, size=10))\n",
        "print(np.random.choice(['t', 'r', 'b', 'l'], size=10))\n",
        "np.random.seed(42)\n",
        "print(np.random.randint(10, size=10))\n",
        "print(np.random.choice(['t', 'r', 'b', 'l'], size=10))"
      ],
      "execution_count": 47,
      "outputs": [
        {
          "output_type": "stream",
          "text": [
            "[6 3 7 4 6 9 2 6 7 4]\n",
            "['l' 'l' 'l' 'b' 'r' 't' 'r' 'l' 'l' 'r']\n",
            "[6 3 7 4 6 9 2 6 7 4]\n",
            "['l' 'l' 'l' 'b' 'r' 't' 'r' 'l' 'l' 'r']\n"
          ],
          "name": "stdout"
        }
      ]
    },
    {
      "cell_type": "markdown",
      "metadata": {
        "id": "ENJwnYvHV-MU",
        "colab_type": "text"
      },
      "source": [
        "## 3 Монетка"
      ]
    },
    {
      "cell_type": "markdown",
      "metadata": {
        "id": "Ym4t2fOoV-MV",
        "colab_type": "text"
      },
      "source": [
        "### 3.1 За допомогою функції *choice*"
      ]
    },
    {
      "cell_type": "code",
      "metadata": {
        "id": "Que1Pz4iV-MX",
        "colab_type": "code",
        "colab": {
          "base_uri": "https://localhost:8080/",
          "height": 34
        },
        "outputId": "76d19086-04b5-403d-c169-2094476e3bb0"
      },
      "source": [
        "p=0.5\n",
        "n=10\n",
        "tosses=np.random.choice([\"H\",\"T\"],p=[p,1-p], size=n)\n",
        "print(tosses)"
      ],
      "execution_count": 48,
      "outputs": [
        {
          "output_type": "stream",
          "text": [
            "['H' 'H' 'H' 'H' 'T' 'H' 'H' 'T' 'H' 'H']\n"
          ],
          "name": "stdout"
        }
      ]
    },
    {
      "cell_type": "code",
      "metadata": {
        "id": "W1YlC4SJV-Mc",
        "colab_type": "code",
        "colab": {
          "base_uri": "https://localhost:8080/",
          "height": 34
        },
        "outputId": "825c02c2-ba1a-4bc2-d06f-fa3a741e913b"
      },
      "source": [
        "heads = list(tosses).count(\"H\")\n",
        "tails = list(tosses).count(\"T\")\n",
        "\n",
        "print(\"{} heads and {} tails\".format(heads,tails))"
      ],
      "execution_count": 49,
      "outputs": [
        {
          "output_type": "stream",
          "text": [
            "8 heads and 2 tails\n"
          ],
          "name": "stdout"
        }
      ]
    },
    {
      "cell_type": "markdown",
      "metadata": {
        "id": "O63Rt12kV-Ml",
        "colab_type": "text"
      },
      "source": [
        "Просимулюйте $100$ підкидань монетки та підрахуйте кількість кожної із сторін."
      ]
    },
    {
      "cell_type": "code",
      "metadata": {
        "id": "WOK48626V-Mp",
        "colab_type": "code",
        "colab": {
          "base_uri": "https://localhost:8080/",
          "height": 34
        },
        "outputId": "b650d120-13b7-4462-ee7d-7e3266096525"
      },
      "source": [
        "# Місце для Вашого коду\n",
        "tosses=np.random.choice([\"H\",\"T\"], size=100)\n",
        "\n",
        "heads = list(tosses).count(\"H\")\n",
        "tails = list(tosses).count(\"T\")\n",
        "\n",
        "print(\"{} heads and {} tails\".format(heads,tails))"
      ],
      "execution_count": 51,
      "outputs": [
        {
          "output_type": "stream",
          "text": [
            "47 heads and 53 tails\n"
          ],
          "name": "stdout"
        }
      ]
    },
    {
      "cell_type": "markdown",
      "metadata": {
        "id": "0zttZyHTV-Mw",
        "colab_type": "text"
      },
      "source": [
        "### 3.2 За допомогою функції *randint*\n",
        "Реалізуйте симуляцію підкидань монетки за допомогою функції **randint**. Просимулюйте $100$ підкидань монетки та підрахуйте кількість кожної із сторін."
      ]
    },
    {
      "cell_type": "code",
      "metadata": {
        "id": "N3YN8YUBV-M2",
        "colab_type": "code",
        "colab": {
          "base_uri": "https://localhost:8080/",
          "height": 34
        },
        "outputId": "9eb6870a-907d-4268-be37-3dac867effad"
      },
      "source": [
        "# Місце для Вашого коду\n",
        "tosses=np.random.randint(2, size=100)\n",
        "\n",
        "heads = list(tosses).count(0)\n",
        "tails = list(tosses).count(1)\n",
        "\n",
        "print(\"{} heads and {} tails\".format(heads,tails))\n"
      ],
      "execution_count": 54,
      "outputs": [
        {
          "output_type": "stream",
          "text": [
            "57 heads and 43 tails\n"
          ],
          "name": "stdout"
        }
      ]
    },
    {
      "cell_type": "markdown",
      "metadata": {
        "id": "nG87NT8PV-NH",
        "colab_type": "text"
      },
      "source": [
        "### 3.3 За допомогою функції *sample*\n",
        "Реалізуйте симуляцію підкидань монетки за допомогою функції **sample**. Просимулюйте $100$ підкидань монетки та підрахуйте кількість кожної із сторін."
      ]
    },
    {
      "cell_type": "code",
      "metadata": {
        "id": "SMHJuzJOV-NJ",
        "colab_type": "code",
        "colab": {
          "base_uri": "https://localhost:8080/",
          "height": 34
        },
        "outputId": "63f510d1-a703-40a4-b326-34135c1bb638"
      },
      "source": [
        "# Місце для Вашого коду\n",
        "tosses=np.random.sample(size=100)\n",
        "array=np.full_like(np.arange(100, dtype=float),0.5)\n",
        "heads = list(tosses >= array).count(True)\n",
        "tails = list(tosses >= array).count(False)\n",
        "\n",
        "print(\"{} heads and {} tails\".format(heads,tails))\n"
      ],
      "execution_count": 62,
      "outputs": [
        {
          "output_type": "stream",
          "text": [
            "40 heads and 60 tails\n"
          ],
          "name": "stdout"
        }
      ]
    },
    {
      "cell_type": "markdown",
      "metadata": {
        "id": "a6i__U60V-NQ",
        "colab_type": "text"
      },
      "source": [
        "### 3.4 Задача\n",
        "Знайдіть емпіричну ймовірність герба у симуляціях підкидання монетки $n = 10, 50, 100, 250, 500, 1000, 2500, 5000, 10000$ разів."
      ]
    },
    {
      "cell_type": "code",
      "metadata": {
        "id": "ZaLfUyVbV-NU",
        "colab_type": "code",
        "colab": {
          "base_uri": "https://localhost:8080/",
          "height": 170
        },
        "outputId": "35626b1a-81e3-4c4c-fb67-20f95323e18d"
      },
      "source": [
        "# Місце для Вашого коду\n",
        "n_val = [10,50,100,250,500,1000,2500,5000,10000]\n",
        "for x in n_val:\n",
        "    tosses=np.random.randint(2, size=x)\n",
        "    heads = list(tosses).count(1)\n",
        "    print(\"n = {} -> Possibility = {}\".format(x, heads / x))\n"
      ],
      "execution_count": 64,
      "outputs": [
        {
          "output_type": "stream",
          "text": [
            "n = 10 -> Possibility = 0.5\n",
            "n = 50 -> Possibility = 0.52\n",
            "n = 100 -> Possibility = 0.54\n",
            "n = 250 -> Possibility = 0.504\n",
            "n = 500 -> Possibility = 0.516\n",
            "n = 1000 -> Possibility = 0.498\n",
            "n = 2500 -> Possibility = 0.49\n",
            "n = 5000 -> Possibility = 0.503\n",
            "n = 10000 -> Possibility = 0.5022\n"
          ],
          "name": "stdout"
        }
      ]
    },
    {
      "cell_type": "markdown",
      "metadata": {
        "id": "9BARJoJ8V-Nh",
        "colab_type": "text"
      },
      "source": [
        "## 4 Гральний кубик\n",
        "### 4.1 Реалізація симуляцій\n",
        "Реалізуйте симуляцію кидків грального кубика за допомогою функції **???**. Просимулюйте $60$ кидків кубика та підрахуйте кількість кожної із сторін."
      ]
    },
    {
      "cell_type": "code",
      "metadata": {
        "id": "yD4gE6VHV-Nk",
        "colab_type": "code",
        "colab": {
          "base_uri": "https://localhost:8080/",
          "height": 34
        },
        "outputId": "6a029b85-22b9-4bb1-d171-9435e89e5c22"
      },
      "source": [
        "# Місце для Вашого коду\n",
        "n = 60\n",
        "tosses=np.random.choice([1,2,3,4,5,6], size=n)\n",
        "cal = np.zeros(6, dtype=int)\n",
        "for i in range(6):\n",
        "    cal[i] = list(tosses).count(i + 1)\n",
        "print(cal)\n"
      ],
      "execution_count": 70,
      "outputs": [
        {
          "output_type": "stream",
          "text": [
            "[10 10 12 12  8  8]\n"
          ],
          "name": "stdout"
        }
      ]
    },
    {
      "cell_type": "markdown",
      "metadata": {
        "id": "9CkxTWv1V-Nv",
        "colab_type": "text"
      },
      "source": [
        "### 4.2 Задача\n",
        "Знайдіть емпіричну ймовірність кожної сторони у симуляціях кидання грального кубика $n = 10, 50, 100, 250, 500, 1000, 2500, 5000, 10000$ разів."
      ]
    },
    {
      "cell_type": "code",
      "metadata": {
        "id": "lHQujxEjV-Nw",
        "colab_type": "code",
        "colab": {
          "base_uri": "https://localhost:8080/",
          "height": 170
        },
        "outputId": "9ac0bbe0-6ee2-4797-f33f-26f42b7fa244"
      },
      "source": [
        "# Місце для Вашого коду\n",
        "n_val = [10, 50, 100, 250, 500, 1000, 2500, 5000, 10000]\n",
        "for x in n_val:\n",
        "    tosses=np.random.choice([1,2,3,4,5,6], size=x)\n",
        "    cal = np.zeros(6)\n",
        "    for i in range(6):\n",
        "        cal[i] = list(tosses).count(i + 1) / x\n",
        "    print(\"n = {} -> Possibility {} \".format(x,cal))\n",
        "\n"
      ],
      "execution_count": 72,
      "outputs": [
        {
          "output_type": "stream",
          "text": [
            "n = 10 -> Possibility [0.3 0.3 0.  0.  0.2 0.2] \n",
            "n = 50 -> Possibility [0.22 0.18 0.22 0.08 0.12 0.18] \n",
            "n = 100 -> Possibility [0.21 0.19 0.14 0.15 0.2  0.11] \n",
            "n = 250 -> Possibility [0.128 0.168 0.148 0.236 0.164 0.156] \n",
            "n = 500 -> Possibility [0.154 0.16  0.184 0.156 0.17  0.176] \n",
            "n = 1000 -> Possibility [0.152 0.2   0.155 0.198 0.156 0.139] \n",
            "n = 2500 -> Possibility [0.1644 0.174  0.1736 0.1532 0.1692 0.1656] \n",
            "n = 5000 -> Possibility [0.1672 0.1632 0.1572 0.1722 0.1692 0.171 ] \n",
            "n = 10000 -> Possibility [0.1657 0.1651 0.1667 0.1615 0.1714 0.1696] \n"
          ],
          "name": "stdout"
        }
      ]
    },
    {
      "cell_type": "markdown",
      "metadata": {
        "id": "h2EHDdXGV-OA",
        "colab_type": "text"
      },
      "source": [
        "## 5 Колода карт\n",
        "### 5.1 Реалізація"
      ]
    },
    {
      "cell_type": "code",
      "metadata": {
        "id": "m3f53zQkV-OC",
        "colab_type": "code",
        "colab": {
          "base_uri": "https://localhost:8080/",
          "height": 54
        },
        "outputId": "58216334-5208-4ee0-c437-0c48d8b2cd6f"
      },
      "source": [
        "# Визначимо номінали, масті та карти\n",
        "Ranks = {'1', '2', '3', '4', '5', '6', '7', '8', '9', '10', 'J', 'Q', 'K'}\n",
        "Suits = {'♢', '♠', '♣', '♡'}\n",
        "# Створимо колоду карт\n",
        "Cards = [(Rank, Suit) for Rank in Ranks for Suit in Suits]\n",
        "print(Cards)"
      ],
      "execution_count": 73,
      "outputs": [
        {
          "output_type": "stream",
          "text": [
            "[('5', '♡'), ('5', '♣'), ('5', '♠'), ('5', '♢'), ('9', '♡'), ('9', '♣'), ('9', '♠'), ('9', '♢'), ('6', '♡'), ('6', '♣'), ('6', '♠'), ('6', '♢'), ('J', '♡'), ('J', '♣'), ('J', '♠'), ('J', '♢'), ('K', '♡'), ('K', '♣'), ('K', '♠'), ('K', '♢'), ('1', '♡'), ('1', '♣'), ('1', '♠'), ('1', '♢'), ('4', '♡'), ('4', '♣'), ('4', '♠'), ('4', '♢'), ('3', '♡'), ('3', '♣'), ('3', '♠'), ('3', '♢'), ('10', '♡'), ('10', '♣'), ('10', '♠'), ('10', '♢'), ('7', '♡'), ('7', '♣'), ('7', '♠'), ('7', '♢'), ('8', '♡'), ('8', '♣'), ('8', '♠'), ('8', '♢'), ('2', '♡'), ('2', '♣'), ('2', '♠'), ('2', '♢'), ('Q', '♡'), ('Q', '♣'), ('Q', '♠'), ('Q', '♢')]\n"
          ],
          "name": "stdout"
        }
      ]
    },
    {
      "cell_type": "code",
      "metadata": {
        "id": "hH4WFH9RV-OK",
        "colab_type": "code",
        "colab": {
          "base_uri": "https://localhost:8080/",
          "height": 54
        },
        "outputId": "90806626-5de2-405c-bffb-f746d81ce44c"
      },
      "source": [
        "# Інший вівід результату\n",
        "print(', '.join([(card[0] + card[1]) for card in Cards]))"
      ],
      "execution_count": 74,
      "outputs": [
        {
          "output_type": "stream",
          "text": [
            "5♡, 5♣, 5♠, 5♢, 9♡, 9♣, 9♠, 9♢, 6♡, 6♣, 6♠, 6♢, J♡, J♣, J♠, J♢, K♡, K♣, K♠, K♢, 1♡, 1♣, 1♠, 1♢, 4♡, 4♣, 4♠, 4♢, 3♡, 3♣, 3♠, 3♢, 10♡, 10♣, 10♠, 10♢, 7♡, 7♣, 7♠, 7♢, 8♡, 8♣, 8♠, 8♢, 2♡, 2♣, 2♠, 2♢, Q♡, Q♣, Q♠, Q♢\n"
          ],
          "name": "stdout"
        }
      ]
    },
    {
      "cell_type": "code",
      "metadata": {
        "id": "hr45DzOnV-OQ",
        "colab_type": "code",
        "colab": {
          "base_uri": "https://localhost:8080/",
          "height": 85
        },
        "outputId": "a9e104f3-355e-4dbe-ae98-9460fa017c9d"
      },
      "source": [
        "# Або згрупувавши по мастях\n",
        "for suit in Suits:\n",
        "    print(\", \".join([(suit+rank) for rank in Ranks]))"
      ],
      "execution_count": 75,
      "outputs": [
        {
          "output_type": "stream",
          "text": [
            "♡5, ♡9, ♡6, ♡J, ♡K, ♡1, ♡4, ♡3, ♡10, ♡7, ♡8, ♡2, ♡Q\n",
            "♣5, ♣9, ♣6, ♣J, ♣K, ♣1, ♣4, ♣3, ♣10, ♣7, ♣8, ♣2, ♣Q\n",
            "♠5, ♠9, ♠6, ♠J, ♠K, ♠1, ♠4, ♠3, ♠10, ♠7, ♠8, ♠2, ♠Q\n",
            "♢5, ♢9, ♢6, ♢J, ♢K, ♢1, ♢4, ♢3, ♢10, ♢7, ♢8, ♢2, ♢Q\n"
          ],
          "name": "stdout"
        }
      ]
    },
    {
      "cell_type": "code",
      "metadata": {
        "id": "gSnr-f4FV-OU",
        "colab_type": "code",
        "colab": {
          "base_uri": "https://localhost:8080/",
          "height": 54
        },
        "outputId": "7f1db12e-33b9-4a97-f7af-000503ab420d"
      },
      "source": [
        "# Перемішаємо колоду\n",
        "np.random.shuffle(Cards)\n",
        "\n",
        "print(Cards)"
      ],
      "execution_count": 76,
      "outputs": [
        {
          "output_type": "stream",
          "text": [
            "[('10', '♠'), ('6', '♢'), ('2', '♢'), ('9', '♡'), ('10', '♡'), ('1', '♢'), ('8', '♠'), ('2', '♡'), ('Q', '♣'), ('6', '♡'), ('J', '♡'), ('5', '♣'), ('8', '♣'), ('J', '♢'), ('9', '♠'), ('1', '♣'), ('1', '♡'), ('3', '♠'), ('7', '♣'), ('J', '♠'), ('9', '♢'), ('J', '♣'), ('5', '♠'), ('3', '♡'), ('10', '♣'), ('10', '♢'), ('4', '♢'), ('3', '♢'), ('7', '♢'), ('7', '♠'), ('8', '♡'), ('2', '♣'), ('K', '♢'), ('2', '♠'), ('Q', '♢'), ('Q', '♡'), ('K', '♣'), ('5', '♢'), ('6', '♠'), ('4', '♠'), ('3', '♣'), ('K', '♡'), ('1', '♠'), ('4', '♣'), ('6', '♣'), ('4', '♡'), ('5', '♡'), ('Q', '♠'), ('K', '♠'), ('9', '♣'), ('7', '♡'), ('8', '♢')]\n"
          ],
          "name": "stdout"
        }
      ]
    },
    {
      "cell_type": "markdown",
      "metadata": {
        "id": "vYa77cjKV-OZ",
        "colab_type": "text"
      },
      "source": [
        "### 5.2 Задача\n",
        "Знайдіть емпіричну ймовірність карти парного числа (2, 4, 6, 8, 10) у симуляціях вибору однієї карти з колоди 52 карт $n = 10, 50, 100, 250, 500, 1000, 2500, 5000, 10000$ разів."
      ]
    },
    {
      "cell_type": "code",
      "metadata": {
        "id": "zEMSTJakV-Ob",
        "colab_type": "code",
        "colab": {
          "base_uri": "https://localhost:8080/",
          "height": 170
        },
        "outputId": "4e899c07-116b-47bc-fadc-bd3b9e4a920b"
      },
      "source": [
        "# Місце для Вашого коду\n",
        "Ranks = {'1', '2', '3', '4', '5', '6', '7', '8', '9', '10', 'J', 'Q', 'K'}\n",
        "Suits = {'♢', '♠', '♣', '♡'}\n",
        "Cards = [Rank + Suit for Rank in Ranks for Suit in Suits]\n",
        "par = ['2','4','6','8','10']\n",
        "n_val = [10,50,100,250,500,1000,2500,5000,10000]\n",
        "for x in n_val:\n",
        "    tosses=np.random.choice(Cards, size=x)\n",
        "    cal = np.zeros(5, dtype = float)\n",
        "    for i in range(5):\n",
        "        for xx in Suits:\n",
        "            cal[i] += list(tosses).count(par[i] + xx)\n",
        "        cal[i] /= x\n",
        "    print(\"n = {} -> Possibility {} \".format(x,cal))       \n",
        "    \n"
      ],
      "execution_count": 88,
      "outputs": [
        {
          "output_type": "stream",
          "text": [
            "n = 10 -> Possibility [0.  0.2 0.  0.1 0.1] \n",
            "n = 50 -> Possibility [0.06 0.12 0.1  0.06 0.12] \n",
            "n = 100 -> Possibility [0.05 0.13 0.06 0.05 0.06] \n",
            "n = 250 -> Possibility [0.072 0.068 0.068 0.064 0.092] \n",
            "n = 500 -> Possibility [0.078 0.064 0.094 0.09  0.066] \n",
            "n = 1000 -> Possibility [0.077 0.09  0.084 0.069 0.063] \n",
            "n = 2500 -> Possibility [0.0644 0.0728 0.076  0.0724 0.0844] \n",
            "n = 5000 -> Possibility [0.0736 0.0784 0.0756 0.0754 0.0736] \n",
            "n = 10000 -> Possibility [0.0773 0.0734 0.0781 0.0769 0.0761] \n"
          ],
          "name": "stdout"
        }
      ]
    },
    {
      "cell_type": "markdown",
      "metadata": {
        "id": "OUV3WjWWV-Or",
        "colab_type": "text"
      },
      "source": [
        "### 5.3 Задача\n",
        "Випадковим чином роздайте колоду з 52 карт чотирьом гравцям (кожному по 13 карт) так, щоб кожен з них мав 4 карти однієї масті та по 3 карти інших мастей. Наприклад, {♣5, ♣10, ♣8, ♣4, ♠4, ♠J, ♠3, ♢Q, ♢7, ♢K, ♡9, ♡1, ♡5}."
      ]
    },
    {
      "cell_type": "code",
      "metadata": {
        "collapsed": true,
        "id": "ahQVoWgJV-Ou",
        "colab_type": "code",
        "colab": {}
      },
      "source": [
        "# Місце для Вашого коду\n",
        "\n"
      ],
      "execution_count": 0,
      "outputs": []
    },
    {
      "cell_type": "markdown",
      "metadata": {
        "id": "Xd2k-WfGV-O2",
        "colab_type": "text"
      },
      "source": [
        "### 5.4 Задача\n",
        "Випадковим чином роздайте колоду з 52 карт чотирьом гравцям (кожному по 13 карт) так, щоб кожен з них мав від 2 до 5 карт кожної масті. Наприклад, {♣5, ♣10, ♣8, ♣4, ♠4, ♠J, ♠3, ♢Q, ♣7, ♢K, ♡9, ♡1, ♡5}."
      ]
    },
    {
      "cell_type": "code",
      "metadata": {
        "collapsed": true,
        "id": "FxQq-4o2V-O5",
        "colab_type": "code",
        "colab": {}
      },
      "source": [
        "# Місце для Вашого коду\n",
        "\n"
      ],
      "execution_count": 0,
      "outputs": []
    }
  ]
}